{
 "cells": [
  {
   "cell_type": "markdown",
   "source": [
    "### Load the Data - EDA & Data Preparation"
   ],
   "metadata": {
    "collapsed": false,
    "pycharm": {
     "name": "#%% md\n"
    }
   }
  },
  {
   "cell_type": "code",
   "execution_count": 173,
   "id": "11409357",
   "metadata": {
    "pycharm": {
     "name": "#%%\n"
    }
   },
   "outputs": [],
   "source": [
    "import numpy as np\n",
    "import pandas as pd\n",
    "from matplotlib import pyplot as plt\n",
    "import seaborn as sns\n",
    "%matplotlib inline\n",
    "sns.set(rc={'figure.figsize': (15,8)}) # Size all seaborn plots from the get go"
   ]
  },
  {
   "cell_type": "code",
   "execution_count": 174,
   "id": "25def70b",
   "metadata": {
    "pycharm": {
     "name": "#%%\n"
    }
   },
   "outputs": [],
   "source": [
    "df = pd.read_csv('data.csv')"
   ]
  },
  {
   "cell_type": "code",
   "execution_count": 175,
   "id": "df45a11f",
   "metadata": {
    "pycharm": {
     "name": "#%%\n"
    }
   },
   "outputs": [
    {
     "data": {
      "text/plain": "11914"
     },
     "execution_count": 175,
     "metadata": {},
     "output_type": "execute_result"
    }
   ],
   "source": [
    "len(df)"
   ]
  },
  {
   "cell_type": "code",
   "execution_count": 176,
   "id": "73f3c676",
   "metadata": {
    "pycharm": {
     "name": "#%%\n"
    }
   },
   "outputs": [
    {
     "data": {
      "text/plain": "  Make       Model  Year             Engine Fuel Type  Engine HP  \\\n0  BMW  1 Series M  2011  premium unleaded (required)      335.0   \n1  BMW    1 Series  2011  premium unleaded (required)      300.0   \n2  BMW    1 Series  2011  premium unleaded (required)      300.0   \n3  BMW    1 Series  2011  premium unleaded (required)      230.0   \n4  BMW    1 Series  2011  premium unleaded (required)      230.0   \n\n   Engine Cylinders Transmission Type     Driven_Wheels  Number of Doors  \\\n0               6.0            MANUAL  rear wheel drive              2.0   \n1               6.0            MANUAL  rear wheel drive              2.0   \n2               6.0            MANUAL  rear wheel drive              2.0   \n3               6.0            MANUAL  rear wheel drive              2.0   \n4               6.0            MANUAL  rear wheel drive              2.0   \n\n                         Market Category Vehicle Size Vehicle Style  \\\n0  Factory Tuner,Luxury,High-Performance      Compact         Coupe   \n1                     Luxury,Performance      Compact   Convertible   \n2                Luxury,High-Performance      Compact         Coupe   \n3                     Luxury,Performance      Compact         Coupe   \n4                                 Luxury      Compact   Convertible   \n\n   highway MPG  city mpg  Popularity   MSRP  \n0           26        19        3916  46135  \n1           28        19        3916  40650  \n2           28        20        3916  36350  \n3           28        18        3916  29450  \n4           28        18        3916  34500  ",
      "text/html": "<div>\n<style scoped>\n    .dataframe tbody tr th:only-of-type {\n        vertical-align: middle;\n    }\n\n    .dataframe tbody tr th {\n        vertical-align: top;\n    }\n\n    .dataframe thead th {\n        text-align: right;\n    }\n</style>\n<table border=\"1\" class=\"dataframe\">\n  <thead>\n    <tr style=\"text-align: right;\">\n      <th></th>\n      <th>Make</th>\n      <th>Model</th>\n      <th>Year</th>\n      <th>Engine Fuel Type</th>\n      <th>Engine HP</th>\n      <th>Engine Cylinders</th>\n      <th>Transmission Type</th>\n      <th>Driven_Wheels</th>\n      <th>Number of Doors</th>\n      <th>Market Category</th>\n      <th>Vehicle Size</th>\n      <th>Vehicle Style</th>\n      <th>highway MPG</th>\n      <th>city mpg</th>\n      <th>Popularity</th>\n      <th>MSRP</th>\n    </tr>\n  </thead>\n  <tbody>\n    <tr>\n      <th>0</th>\n      <td>BMW</td>\n      <td>1 Series M</td>\n      <td>2011</td>\n      <td>premium unleaded (required)</td>\n      <td>335.0</td>\n      <td>6.0</td>\n      <td>MANUAL</td>\n      <td>rear wheel drive</td>\n      <td>2.0</td>\n      <td>Factory Tuner,Luxury,High-Performance</td>\n      <td>Compact</td>\n      <td>Coupe</td>\n      <td>26</td>\n      <td>19</td>\n      <td>3916</td>\n      <td>46135</td>\n    </tr>\n    <tr>\n      <th>1</th>\n      <td>BMW</td>\n      <td>1 Series</td>\n      <td>2011</td>\n      <td>premium unleaded (required)</td>\n      <td>300.0</td>\n      <td>6.0</td>\n      <td>MANUAL</td>\n      <td>rear wheel drive</td>\n      <td>2.0</td>\n      <td>Luxury,Performance</td>\n      <td>Compact</td>\n      <td>Convertible</td>\n      <td>28</td>\n      <td>19</td>\n      <td>3916</td>\n      <td>40650</td>\n    </tr>\n    <tr>\n      <th>2</th>\n      <td>BMW</td>\n      <td>1 Series</td>\n      <td>2011</td>\n      <td>premium unleaded (required)</td>\n      <td>300.0</td>\n      <td>6.0</td>\n      <td>MANUAL</td>\n      <td>rear wheel drive</td>\n      <td>2.0</td>\n      <td>Luxury,High-Performance</td>\n      <td>Compact</td>\n      <td>Coupe</td>\n      <td>28</td>\n      <td>20</td>\n      <td>3916</td>\n      <td>36350</td>\n    </tr>\n    <tr>\n      <th>3</th>\n      <td>BMW</td>\n      <td>1 Series</td>\n      <td>2011</td>\n      <td>premium unleaded (required)</td>\n      <td>230.0</td>\n      <td>6.0</td>\n      <td>MANUAL</td>\n      <td>rear wheel drive</td>\n      <td>2.0</td>\n      <td>Luxury,Performance</td>\n      <td>Compact</td>\n      <td>Coupe</td>\n      <td>28</td>\n      <td>18</td>\n      <td>3916</td>\n      <td>29450</td>\n    </tr>\n    <tr>\n      <th>4</th>\n      <td>BMW</td>\n      <td>1 Series</td>\n      <td>2011</td>\n      <td>premium unleaded (required)</td>\n      <td>230.0</td>\n      <td>6.0</td>\n      <td>MANUAL</td>\n      <td>rear wheel drive</td>\n      <td>2.0</td>\n      <td>Luxury</td>\n      <td>Compact</td>\n      <td>Convertible</td>\n      <td>28</td>\n      <td>18</td>\n      <td>3916</td>\n      <td>34500</td>\n    </tr>\n  </tbody>\n</table>\n</div>"
     },
     "execution_count": 176,
     "metadata": {},
     "output_type": "execute_result"
    }
   ],
   "source": [
    "df.head()"
   ]
  },
  {
   "cell_type": "code",
   "execution_count": 177,
   "id": "bf3b744d",
   "metadata": {
    "pycharm": {
     "name": "#%%\n"
    }
   },
   "outputs": [],
   "source": [
    "df.columns = df.columns.str.lower().str.replace(\" \", \"_\")"
   ]
  },
  {
   "cell_type": "code",
   "execution_count": 178,
   "id": "5e4ba765",
   "metadata": {
    "pycharm": {
     "name": "#%%\n"
    }
   },
   "outputs": [
    {
     "data": {
      "text/plain": "  make       model  year             engine_fuel_type  engine_hp  \\\n0  BMW  1 Series M  2011  premium unleaded (required)      335.0   \n1  BMW    1 Series  2011  premium unleaded (required)      300.0   \n2  BMW    1 Series  2011  premium unleaded (required)      300.0   \n3  BMW    1 Series  2011  premium unleaded (required)      230.0   \n4  BMW    1 Series  2011  premium unleaded (required)      230.0   \n\n   engine_cylinders transmission_type     driven_wheels  number_of_doors  \\\n0               6.0            MANUAL  rear wheel drive              2.0   \n1               6.0            MANUAL  rear wheel drive              2.0   \n2               6.0            MANUAL  rear wheel drive              2.0   \n3               6.0            MANUAL  rear wheel drive              2.0   \n4               6.0            MANUAL  rear wheel drive              2.0   \n\n                         market_category vehicle_size vehicle_style  \\\n0  Factory Tuner,Luxury,High-Performance      Compact         Coupe   \n1                     Luxury,Performance      Compact   Convertible   \n2                Luxury,High-Performance      Compact         Coupe   \n3                     Luxury,Performance      Compact         Coupe   \n4                                 Luxury      Compact   Convertible   \n\n   highway_mpg  city_mpg  popularity   msrp  \n0           26        19        3916  46135  \n1           28        19        3916  40650  \n2           28        20        3916  36350  \n3           28        18        3916  29450  \n4           28        18        3916  34500  ",
      "text/html": "<div>\n<style scoped>\n    .dataframe tbody tr th:only-of-type {\n        vertical-align: middle;\n    }\n\n    .dataframe tbody tr th {\n        vertical-align: top;\n    }\n\n    .dataframe thead th {\n        text-align: right;\n    }\n</style>\n<table border=\"1\" class=\"dataframe\">\n  <thead>\n    <tr style=\"text-align: right;\">\n      <th></th>\n      <th>make</th>\n      <th>model</th>\n      <th>year</th>\n      <th>engine_fuel_type</th>\n      <th>engine_hp</th>\n      <th>engine_cylinders</th>\n      <th>transmission_type</th>\n      <th>driven_wheels</th>\n      <th>number_of_doors</th>\n      <th>market_category</th>\n      <th>vehicle_size</th>\n      <th>vehicle_style</th>\n      <th>highway_mpg</th>\n      <th>city_mpg</th>\n      <th>popularity</th>\n      <th>msrp</th>\n    </tr>\n  </thead>\n  <tbody>\n    <tr>\n      <th>0</th>\n      <td>BMW</td>\n      <td>1 Series M</td>\n      <td>2011</td>\n      <td>premium unleaded (required)</td>\n      <td>335.0</td>\n      <td>6.0</td>\n      <td>MANUAL</td>\n      <td>rear wheel drive</td>\n      <td>2.0</td>\n      <td>Factory Tuner,Luxury,High-Performance</td>\n      <td>Compact</td>\n      <td>Coupe</td>\n      <td>26</td>\n      <td>19</td>\n      <td>3916</td>\n      <td>46135</td>\n    </tr>\n    <tr>\n      <th>1</th>\n      <td>BMW</td>\n      <td>1 Series</td>\n      <td>2011</td>\n      <td>premium unleaded (required)</td>\n      <td>300.0</td>\n      <td>6.0</td>\n      <td>MANUAL</td>\n      <td>rear wheel drive</td>\n      <td>2.0</td>\n      <td>Luxury,Performance</td>\n      <td>Compact</td>\n      <td>Convertible</td>\n      <td>28</td>\n      <td>19</td>\n      <td>3916</td>\n      <td>40650</td>\n    </tr>\n    <tr>\n      <th>2</th>\n      <td>BMW</td>\n      <td>1 Series</td>\n      <td>2011</td>\n      <td>premium unleaded (required)</td>\n      <td>300.0</td>\n      <td>6.0</td>\n      <td>MANUAL</td>\n      <td>rear wheel drive</td>\n      <td>2.0</td>\n      <td>Luxury,High-Performance</td>\n      <td>Compact</td>\n      <td>Coupe</td>\n      <td>28</td>\n      <td>20</td>\n      <td>3916</td>\n      <td>36350</td>\n    </tr>\n    <tr>\n      <th>3</th>\n      <td>BMW</td>\n      <td>1 Series</td>\n      <td>2011</td>\n      <td>premium unleaded (required)</td>\n      <td>230.0</td>\n      <td>6.0</td>\n      <td>MANUAL</td>\n      <td>rear wheel drive</td>\n      <td>2.0</td>\n      <td>Luxury,Performance</td>\n      <td>Compact</td>\n      <td>Coupe</td>\n      <td>28</td>\n      <td>18</td>\n      <td>3916</td>\n      <td>29450</td>\n    </tr>\n    <tr>\n      <th>4</th>\n      <td>BMW</td>\n      <td>1 Series</td>\n      <td>2011</td>\n      <td>premium unleaded (required)</td>\n      <td>230.0</td>\n      <td>6.0</td>\n      <td>MANUAL</td>\n      <td>rear wheel drive</td>\n      <td>2.0</td>\n      <td>Luxury</td>\n      <td>Compact</td>\n      <td>Convertible</td>\n      <td>28</td>\n      <td>18</td>\n      <td>3916</td>\n      <td>34500</td>\n    </tr>\n  </tbody>\n</table>\n</div>"
     },
     "execution_count": 178,
     "metadata": {},
     "output_type": "execute_result"
    }
   ],
   "source": [
    "df.head()"
   ]
  },
  {
   "cell_type": "code",
   "execution_count": 179,
   "id": "bbc3c50f",
   "metadata": {
    "pycharm": {
     "name": "#%%\n"
    }
   },
   "outputs": [],
   "source": [
    "# We just want the columns that are strings\n",
    "string_columns = list(df.dtypes[df.dtypes == 'object'].index)\n",
    "# Now lowercase and replace all the spaces with underscores\n",
    "for col in string_columns:\n",
    "    df[col] = df[col].str.lower().str.replace(\" \", \"_\")"
   ]
  },
  {
   "cell_type": "code",
   "execution_count": 180,
   "id": "c6a6d3a6",
   "metadata": {
    "pycharm": {
     "name": "#%%\n"
    }
   },
   "outputs": [
    {
     "data": {
      "text/plain": "  make       model  year             engine_fuel_type  engine_hp  \\\n0  bmw  1_series_m  2011  premium_unleaded_(required)      335.0   \n1  bmw    1_series  2011  premium_unleaded_(required)      300.0   \n2  bmw    1_series  2011  premium_unleaded_(required)      300.0   \n3  bmw    1_series  2011  premium_unleaded_(required)      230.0   \n4  bmw    1_series  2011  premium_unleaded_(required)      230.0   \n\n   engine_cylinders transmission_type     driven_wheels  number_of_doors  \\\n0               6.0            manual  rear_wheel_drive              2.0   \n1               6.0            manual  rear_wheel_drive              2.0   \n2               6.0            manual  rear_wheel_drive              2.0   \n3               6.0            manual  rear_wheel_drive              2.0   \n4               6.0            manual  rear_wheel_drive              2.0   \n\n                         market_category vehicle_size vehicle_style  \\\n0  factory_tuner,luxury,high-performance      compact         coupe   \n1                     luxury,performance      compact   convertible   \n2                luxury,high-performance      compact         coupe   \n3                     luxury,performance      compact         coupe   \n4                                 luxury      compact   convertible   \n\n   highway_mpg  city_mpg  popularity   msrp  \n0           26        19        3916  46135  \n1           28        19        3916  40650  \n2           28        20        3916  36350  \n3           28        18        3916  29450  \n4           28        18        3916  34500  ",
      "text/html": "<div>\n<style scoped>\n    .dataframe tbody tr th:only-of-type {\n        vertical-align: middle;\n    }\n\n    .dataframe tbody tr th {\n        vertical-align: top;\n    }\n\n    .dataframe thead th {\n        text-align: right;\n    }\n</style>\n<table border=\"1\" class=\"dataframe\">\n  <thead>\n    <tr style=\"text-align: right;\">\n      <th></th>\n      <th>make</th>\n      <th>model</th>\n      <th>year</th>\n      <th>engine_fuel_type</th>\n      <th>engine_hp</th>\n      <th>engine_cylinders</th>\n      <th>transmission_type</th>\n      <th>driven_wheels</th>\n      <th>number_of_doors</th>\n      <th>market_category</th>\n      <th>vehicle_size</th>\n      <th>vehicle_style</th>\n      <th>highway_mpg</th>\n      <th>city_mpg</th>\n      <th>popularity</th>\n      <th>msrp</th>\n    </tr>\n  </thead>\n  <tbody>\n    <tr>\n      <th>0</th>\n      <td>bmw</td>\n      <td>1_series_m</td>\n      <td>2011</td>\n      <td>premium_unleaded_(required)</td>\n      <td>335.0</td>\n      <td>6.0</td>\n      <td>manual</td>\n      <td>rear_wheel_drive</td>\n      <td>2.0</td>\n      <td>factory_tuner,luxury,high-performance</td>\n      <td>compact</td>\n      <td>coupe</td>\n      <td>26</td>\n      <td>19</td>\n      <td>3916</td>\n      <td>46135</td>\n    </tr>\n    <tr>\n      <th>1</th>\n      <td>bmw</td>\n      <td>1_series</td>\n      <td>2011</td>\n      <td>premium_unleaded_(required)</td>\n      <td>300.0</td>\n      <td>6.0</td>\n      <td>manual</td>\n      <td>rear_wheel_drive</td>\n      <td>2.0</td>\n      <td>luxury,performance</td>\n      <td>compact</td>\n      <td>convertible</td>\n      <td>28</td>\n      <td>19</td>\n      <td>3916</td>\n      <td>40650</td>\n    </tr>\n    <tr>\n      <th>2</th>\n      <td>bmw</td>\n      <td>1_series</td>\n      <td>2011</td>\n      <td>premium_unleaded_(required)</td>\n      <td>300.0</td>\n      <td>6.0</td>\n      <td>manual</td>\n      <td>rear_wheel_drive</td>\n      <td>2.0</td>\n      <td>luxury,high-performance</td>\n      <td>compact</td>\n      <td>coupe</td>\n      <td>28</td>\n      <td>20</td>\n      <td>3916</td>\n      <td>36350</td>\n    </tr>\n    <tr>\n      <th>3</th>\n      <td>bmw</td>\n      <td>1_series</td>\n      <td>2011</td>\n      <td>premium_unleaded_(required)</td>\n      <td>230.0</td>\n      <td>6.0</td>\n      <td>manual</td>\n      <td>rear_wheel_drive</td>\n      <td>2.0</td>\n      <td>luxury,performance</td>\n      <td>compact</td>\n      <td>coupe</td>\n      <td>28</td>\n      <td>18</td>\n      <td>3916</td>\n      <td>29450</td>\n    </tr>\n    <tr>\n      <th>4</th>\n      <td>bmw</td>\n      <td>1_series</td>\n      <td>2011</td>\n      <td>premium_unleaded_(required)</td>\n      <td>230.0</td>\n      <td>6.0</td>\n      <td>manual</td>\n      <td>rear_wheel_drive</td>\n      <td>2.0</td>\n      <td>luxury</td>\n      <td>compact</td>\n      <td>convertible</td>\n      <td>28</td>\n      <td>18</td>\n      <td>3916</td>\n      <td>34500</td>\n    </tr>\n  </tbody>\n</table>\n</div>"
     },
     "execution_count": 180,
     "metadata": {},
     "output_type": "execute_result"
    }
   ],
   "source": [
    "df.head()"
   ]
  },
  {
   "cell_type": "markdown",
   "source": [
    "We will use the MSRP as our target variable."
   ],
   "metadata": {
    "collapsed": false,
    "pycharm": {
     "name": "#%% md\n"
    }
   }
  },
  {
   "cell_type": "code",
   "execution_count": 181,
   "id": "ad7786ad",
   "metadata": {
    "pycharm": {
     "name": "#%%\n"
    }
   },
   "outputs": [
    {
     "data": {
      "text/plain": "<AxesSubplot:xlabel='msrp', ylabel='Count'>"
     },
     "execution_count": 181,
     "metadata": {},
     "output_type": "execute_result"
    },
    {
     "data": {
      "text/plain": "<Figure size 1080x576 with 1 Axes>",
      "image/png": "[encoded data removed]"
     },
     "metadata": {},
     "output_type": "display_data"
    }
   ],
   "source": [
    "sns.histplot(df.msrp, bins = 30)"
   ]
  },
  {
   "cell_type": "code",
   "execution_count": 182,
   "id": "96703bfc",
   "metadata": {
    "pycharm": {
     "name": "#%%\n"
    }
   },
   "outputs": [
    {
     "data": {
      "text/plain": "<AxesSubplot:xlabel='msrp', ylabel='Count'>"
     },
     "execution_count": 182,
     "metadata": {},
     "output_type": "execute_result"
    },
    {
     "data": {
      "text/plain": "<Figure size 1080x576 with 1 Axes>",
      "image/png": "[encoded data removed]"
     },
     "metadata": {},
     "output_type": "display_data"
    }
   ],
   "source": [
    "sns.histplot(df.msrp[df.msrp<100000], bins = 30)"
   ]
  },
  {
   "cell_type": "code",
   "execution_count": 182,
   "id": "2498194f",
   "metadata": {
    "pycharm": {
     "name": "#%%\n"
    }
   },
   "outputs": [],
   "source": []
  },
  {
   "cell_type": "markdown",
   "source": [
    "We can use a log transformation to deal with the outliers. y_ = log(y+1)"
   ],
   "metadata": {
    "collapsed": false,
    "pycharm": {
     "name": "#%% md\n"
    }
   }
  },
  {
   "cell_type": "code",
   "execution_count": 183,
   "id": "57042200",
   "metadata": {
    "pycharm": {
     "name": "#%%\n"
    }
   },
   "outputs": [
    {
     "data": {
      "text/plain": "<AxesSubplot:xlabel='msrp', ylabel='Count'>"
     },
     "execution_count": 183,
     "metadata": {},
     "output_type": "execute_result"
    },
    {
     "data": {
      "text/plain": "<Figure size 1080x576 with 1 Axes>",
      "image/png": "[encoded data removed]"
     },
     "metadata": {},
     "output_type": "display_data"
    }
   ],
   "source": [
    "log_msrp = np.log1p(df.msrp)\n",
    "sns.histplot(log_msrp, bins=30)"
   ]
  },
  {
   "cell_type": "code",
   "execution_count": 183,
   "id": "778a6745",
   "metadata": {
    "pycharm": {
     "name": "#%%\n"
    }
   },
   "outputs": [],
   "source": []
  },
  {
   "cell_type": "code",
   "execution_count": 184,
   "id": "8f6c7e96",
   "metadata": {
    "pycharm": {
     "name": "#%%\n"
    }
   },
   "outputs": [
    {
     "data": {
      "text/plain": "make                    0\nmodel                   0\nyear                    0\nengine_fuel_type        3\nengine_hp              69\nengine_cylinders       30\ntransmission_type       0\ndriven_wheels           0\nnumber_of_doors         6\nmarket_category      3742\nvehicle_size            0\nvehicle_style           0\nhighway_mpg             0\ncity_mpg                0\npopularity              0\nmsrp                    0\ndtype: int64"
     },
     "execution_count": 184,
     "metadata": {},
     "output_type": "execute_result"
    }
   ],
   "source": [
    "# Check for missing values\n",
    "df.isnull().sum()"
   ]
  },
  {
   "cell_type": "markdown",
   "source": [
    "Split the dataset into:\n",
    "1. Training: 60%\n",
    "2. Validation: 20%\n",
    "3. Testing: 20%"
   ],
   "metadata": {
    "collapsed": false,
    "pycharm": {
     "name": "#%% md\n"
    }
   }
  },
  {
   "cell_type": "code",
   "execution_count": 185,
   "id": "b1cf774c",
   "metadata": {
    "pycharm": {
     "name": "#%%\n"
    }
   },
   "outputs": [],
   "source": [
    "# Instead of using scikit-learn, we'll split by 'first principles'\n",
    "n_samples = len(df)\n",
    "\n",
    "n_validation = int(0.2*n_samples)\n",
    "n_test = int(0.2*n_samples)\n",
    "n_train = n_samples - (n_validation + n_test)\n",
    "\n",
    "np.random.seed(42) # 42 will be the starting seed for all the generated data ensuring reproducible data\n",
    "index = np.arange(n_samples)\n",
    "np.random.shuffle(index)\n",
    "\n",
    "# Let's get a shuffled dataframe\n",
    "\n",
    "df_shuffled = df.iloc[index] # iloc gives us access to the rows of the df\n",
    "\n",
    "df_train = df_shuffled.iloc[:n_train].copy()\n",
    "df_val = df_shuffled.iloc[n_train:n_train+n_validation].copy()\n",
    "df_test = df_shuffled.iloc[n_train+n_validation:].copy()"
   ]
  },
  {
   "cell_type": "code",
   "execution_count": 186,
   "id": "2f8ab9f5",
   "metadata": {
    "pycharm": {
     "name": "#%%\n"
    }
   },
   "outputs": [],
   "source": [
    "# Now log transform the output variable - this could've been done before the split\n",
    "\n",
    "y_train = np.log1p(df_train.msrp.values)\n",
    "y_val = np.log1p(df_val.msrp.values)\n",
    "y_test = np.log1p(df_test.msrp.values)"
   ]
  },
  {
   "cell_type": "code",
   "execution_count": 186,
   "id": "abb4c8dd",
   "metadata": {
    "pycharm": {
     "name": "#%%\n"
    }
   },
   "outputs": [],
   "source": []
  },
  {
   "cell_type": "code",
   "execution_count": 187,
   "outputs": [],
   "source": [
    "# We need to extract data from our dataframe to create a matrix for the linear regression model below"
   ],
   "metadata": {
    "collapsed": false,
    "pycharm": {
     "name": "#%%\n"
    }
   }
  },
  {
   "cell_type": "code",
   "execution_count": 188,
   "outputs": [
    {
     "name": "stdout",
     "output_type": "stream",
     "text": [
      "['year', 'engine_hp', 'engine_cylinders', 'number_of_doors', 'highway_mpg', 'city_mpg', 'popularity', 'msrp']\n"
     ]
    }
   ],
   "source": [
    "numeric_columns = df.select_dtypes(include=np.number).columns.tolist()\n",
    "print(numeric_columns)"
   ],
   "metadata": {
    "collapsed": false,
    "pycharm": {
     "name": "#%%\n"
    }
   }
  },
  {
   "cell_type": "code",
   "execution_count": 189,
   "outputs": [],
   "source": [
    "base_features = ['engine_hp', 'engine_cylinders', 'highway_mpg', 'city_mpg', 'popularity']\n",
    "df_num = df_train[base_features]"
   ],
   "metadata": {
    "collapsed": false,
    "pycharm": {
     "name": "#%%\n"
    }
   }
  },
  {
   "cell_type": "code",
   "execution_count": 190,
   "outputs": [],
   "source": [
    "# Let's be crude and fill our missing data with zeros\n",
    "df_num = df_num.fillna(0)"
   ],
   "metadata": {
    "collapsed": false,
    "pycharm": {
     "name": "#%%\n"
    }
   }
  },
  {
   "cell_type": "code",
   "execution_count": 191,
   "outputs": [],
   "source": [
    "X_train = df_num.values"
   ],
   "metadata": {
    "collapsed": false,
    "pycharm": {
     "name": "#%%\n"
    }
   }
  },
  {
   "cell_type": "markdown",
   "source": [
    "### Linear Regression"
   ],
   "metadata": {
    "collapsed": false,
    "pycharm": {
     "name": "#%% md\n"
    }
   }
  },
  {
   "cell_type": "markdown",
   "source": [
    "Instead of using the scikit-learn framework, use a from scratch approach.\n",
    "y = g(X) where X is a matrix where the features of observations are rows of the matrix and y is the value we're trying to predict"
   ],
   "metadata": {
    "collapsed": false,
    "pycharm": {
     "name": "#%% md\n"
    }
   }
  },
  {
   "cell_type": "code",
   "execution_count": 191,
   "outputs": [],
   "source": [],
   "metadata": {
    "collapsed": false,
    "pycharm": {
     "name": "#%%\n"
    }
   }
  },
  {
   "cell_type": "code",
   "execution_count": 192,
   "outputs": [],
   "source": [
    "def train_linear_regression(X,y):\n",
    "    \"\"\"\n",
    "    Linear regression: g(x) = w(bias) + X(transposed)w\n",
    "    w = (X(transposed)inverse(X(transposed)y) --> The normal equation for weights in LR\n",
    "    :param X: Our input vector\n",
    "    :param y: Our target vector\n",
    "    :return: the bias weight and the vector weights\n",
    "    \"\"\"\n",
    "\n",
    "    #   We have to add a columns of one's as the first column in our input vector\n",
    "    ones = np.ones(X.shape[0])\n",
    "    X = np.column_stack([ones, X])\n",
    "\n",
    "    # An equation for calculating the weights\n",
    "    xtx = X.T.dot(X)\n",
    "    xtx_inv = np.linalg.inv(xtx)\n",
    "    w = xtx_inv.dot(X.T).dot(y)\n",
    "\n",
    "    return w[0], w[1:]\n"
   ],
   "metadata": {
    "collapsed": false,
    "pycharm": {
     "name": "#%%\n"
    }
   }
  },
  {
   "cell_type": "code",
   "execution_count": 192,
   "outputs": [],
   "source": [],
   "metadata": {
    "collapsed": false,
    "pycharm": {
     "name": "#%%\n"
    }
   }
  },
  {
   "cell_type": "code",
   "execution_count": 193,
   "outputs": [],
   "source": [
    "# Train the model\n",
    "w_0, w = train_linear_regression(X_train, y_train)\n",
    "# And apply it to the training data to see how it fits...\n",
    "y_pred = w_0 + X_train.dot(w)"
   ],
   "metadata": {
    "collapsed": false,
    "pycharm": {
     "name": "#%%\n"
    }
   }
  },
  {
   "cell_type": "code",
   "execution_count": 194,
   "outputs": [
    {
     "data": {
      "text/plain": "<matplotlib.legend.Legend at 0x15dae6f10>"
     },
     "execution_count": 194,
     "metadata": {},
     "output_type": "execute_result"
    },
    {
     "data": {
      "text/plain": "<Figure size 1080x576 with 1 Axes>",
      "image/png": "[encoded data removed]"
     },
     "metadata": {},
     "output_type": "display_data"
    }
   ],
   "source": [
    "# If we look at the above graphically...\n",
    "\n",
    "sns.histplot(y_pred, label= 'Prediction', color='red')\n",
    "sns.histplot(y_train, label = 'Target/Actual')\n",
    "plt.legend()"
   ],
   "metadata": {
    "collapsed": false,
    "pycharm": {
     "name": "#%%\n"
    }
   }
  },
  {
   "cell_type": "code",
   "execution_count": 194,
   "outputs": [],
   "source": [],
   "metadata": {
    "collapsed": false,
    "pycharm": {
     "name": "#%%\n"
    }
   }
  },
  {
   "cell_type": "markdown",
   "source": [
    "We can evaluate our model using Root Mean Squared Error (RMSE) to determine how large the error in our model is.\n",
    "Again, we can define this through first principles rather than utilising a package (well, we're using Numpy but...)"
   ],
   "metadata": {
    "collapsed": false,
    "pycharm": {
     "name": "#%% md\n"
    }
   }
  },
  {
   "cell_type": "code",
   "execution_count": 195,
   "id": "1c1e7bb9",
   "metadata": {
    "pycharm": {
     "name": "#%%\n"
    }
   },
   "outputs": [],
   "source": [
    "def rmse(y_true, y_pred):\n",
    "    \"\"\"\n",
    "    A function to calculate the root mean squared error\n",
    "    :param y_true: A numpy array representing the true dependent variable\n",
    "    :param y_pred: A numpy array representing the model results of the dependent variable\n",
    "    :return: The root mean squared error - the closer to zero, the better the model, i.e.\n",
    "    when comparing 2 models, the lower the rmse the better the model\n",
    "    \"\"\"\n",
    "    error = y_pred - y_true\n",
    "    mse = (error**2).mean()\n",
    "    return np.sqrt(mse)\n"
   ]
  },
  {
   "cell_type": "code",
   "execution_count": 196,
   "id": "2c2243a2",
   "metadata": {
    "pycharm": {
     "name": "#%%\n"
    }
   },
   "outputs": [
    {
     "name": "stdout",
     "output_type": "stream",
     "text": [
      "0.7570200472453602\n"
     ]
    }
   ],
   "source": [
    "# For our model, based on the training set (but should really be used on the validation set)\n",
    "\n",
    "rmse_ = rmse(y_train, y_pred)\n",
    "print(rmse_)"
   ]
  },
  {
   "cell_type": "code",
   "execution_count": 197,
   "id": "db7a79c8",
   "metadata": {
    "pycharm": {
     "name": "#%%\n"
    }
   },
   "outputs": [
    {
     "name": "stdout",
     "output_type": "stream",
     "text": [
      "0.7398184285113435\n"
     ]
    }
   ],
   "source": [
    "# For the validation set\n",
    "\n",
    "df_num = df_val[base_features]\n",
    "df_num = df_num.fillna(0)\n",
    "X_val = df_num.values\n",
    "\n",
    "y_pred = w_0 + X_val.dot(w)\n",
    "print(rmse(y_val, y_pred))"
   ]
  },
  {
   "cell_type": "code",
   "execution_count": 197,
   "id": "bc46765c",
   "metadata": {
    "pycharm": {
     "name": "#%%\n"
    }
   },
   "outputs": [],
   "source": []
  },
  {
   "cell_type": "markdown",
   "source": [
    "### Feature Engineering"
   ],
   "metadata": {
    "collapsed": false,
    "pycharm": {
     "name": "#%% md\n"
    }
   }
  },
  {
   "cell_type": "markdown",
   "source": [
    "The above exemplifies the use of linear regression with some simple input features from the dataset \"['engine_hp', 'engine_cylinders', 'highway_mpg', 'city_mpg', 'popularity']\". If we do some further feature engineering we can improve our model."
   ],
   "metadata": {
    "collapsed": false,
    "pycharm": {
     "name": "#%% md\n"
    }
   }
  },
  {
   "cell_type": "code",
   "execution_count": 198,
   "id": "543c7317",
   "metadata": {
    "pycharm": {
     "name": "#%%\n"
    }
   },
   "outputs": [
    {
     "data": {
      "text/plain": "  make       model  year             engine_fuel_type  engine_hp  \\\n0  bmw  1_series_m  2011  premium_unleaded_(required)      335.0   \n1  bmw    1_series  2011  premium_unleaded_(required)      300.0   \n2  bmw    1_series  2011  premium_unleaded_(required)      300.0   \n3  bmw    1_series  2011  premium_unleaded_(required)      230.0   \n4  bmw    1_series  2011  premium_unleaded_(required)      230.0   \n\n   engine_cylinders transmission_type     driven_wheels  number_of_doors  \\\n0               6.0            manual  rear_wheel_drive              2.0   \n1               6.0            manual  rear_wheel_drive              2.0   \n2               6.0            manual  rear_wheel_drive              2.0   \n3               6.0            manual  rear_wheel_drive              2.0   \n4               6.0            manual  rear_wheel_drive              2.0   \n\n                         market_category vehicle_size vehicle_style  \\\n0  factory_tuner,luxury,high-performance      compact         coupe   \n1                     luxury,performance      compact   convertible   \n2                luxury,high-performance      compact         coupe   \n3                     luxury,performance      compact         coupe   \n4                                 luxury      compact   convertible   \n\n   highway_mpg  city_mpg  popularity   msrp  \n0           26        19        3916  46135  \n1           28        19        3916  40650  \n2           28        20        3916  36350  \n3           28        18        3916  29450  \n4           28        18        3916  34500  ",
      "text/html": "<div>\n<style scoped>\n    .dataframe tbody tr th:only-of-type {\n        vertical-align: middle;\n    }\n\n    .dataframe tbody tr th {\n        vertical-align: top;\n    }\n\n    .dataframe thead th {\n        text-align: right;\n    }\n</style>\n<table border=\"1\" class=\"dataframe\">\n  <thead>\n    <tr style=\"text-align: right;\">\n      <th></th>\n      <th>make</th>\n      <th>model</th>\n      <th>year</th>\n      <th>engine_fuel_type</th>\n      <th>engine_hp</th>\n      <th>engine_cylinders</th>\n      <th>transmission_type</th>\n      <th>driven_wheels</th>\n      <th>number_of_doors</th>\n      <th>market_category</th>\n      <th>vehicle_size</th>\n      <th>vehicle_style</th>\n      <th>highway_mpg</th>\n      <th>city_mpg</th>\n      <th>popularity</th>\n      <th>msrp</th>\n    </tr>\n  </thead>\n  <tbody>\n    <tr>\n      <th>0</th>\n      <td>bmw</td>\n      <td>1_series_m</td>\n      <td>2011</td>\n      <td>premium_unleaded_(required)</td>\n      <td>335.0</td>\n      <td>6.0</td>\n      <td>manual</td>\n      <td>rear_wheel_drive</td>\n      <td>2.0</td>\n      <td>factory_tuner,luxury,high-performance</td>\n      <td>compact</td>\n      <td>coupe</td>\n      <td>26</td>\n      <td>19</td>\n      <td>3916</td>\n      <td>46135</td>\n    </tr>\n    <tr>\n      <th>1</th>\n      <td>bmw</td>\n      <td>1_series</td>\n      <td>2011</td>\n      <td>premium_unleaded_(required)</td>\n      <td>300.0</td>\n      <td>6.0</td>\n      <td>manual</td>\n      <td>rear_wheel_drive</td>\n      <td>2.0</td>\n      <td>luxury,performance</td>\n      <td>compact</td>\n      <td>convertible</td>\n      <td>28</td>\n      <td>19</td>\n      <td>3916</td>\n      <td>40650</td>\n    </tr>\n    <tr>\n      <th>2</th>\n      <td>bmw</td>\n      <td>1_series</td>\n      <td>2011</td>\n      <td>premium_unleaded_(required)</td>\n      <td>300.0</td>\n      <td>6.0</td>\n      <td>manual</td>\n      <td>rear_wheel_drive</td>\n      <td>2.0</td>\n      <td>luxury,high-performance</td>\n      <td>compact</td>\n      <td>coupe</td>\n      <td>28</td>\n      <td>20</td>\n      <td>3916</td>\n      <td>36350</td>\n    </tr>\n    <tr>\n      <th>3</th>\n      <td>bmw</td>\n      <td>1_series</td>\n      <td>2011</td>\n      <td>premium_unleaded_(required)</td>\n      <td>230.0</td>\n      <td>6.0</td>\n      <td>manual</td>\n      <td>rear_wheel_drive</td>\n      <td>2.0</td>\n      <td>luxury,performance</td>\n      <td>compact</td>\n      <td>coupe</td>\n      <td>28</td>\n      <td>18</td>\n      <td>3916</td>\n      <td>29450</td>\n    </tr>\n    <tr>\n      <th>4</th>\n      <td>bmw</td>\n      <td>1_series</td>\n      <td>2011</td>\n      <td>premium_unleaded_(required)</td>\n      <td>230.0</td>\n      <td>6.0</td>\n      <td>manual</td>\n      <td>rear_wheel_drive</td>\n      <td>2.0</td>\n      <td>luxury</td>\n      <td>compact</td>\n      <td>convertible</td>\n      <td>28</td>\n      <td>18</td>\n      <td>3916</td>\n      <td>34500</td>\n    </tr>\n  </tbody>\n</table>\n</div>"
     },
     "execution_count": 198,
     "metadata": {},
     "output_type": "execute_result"
    }
   ],
   "source": [
    "df.head()"
   ]
  },
  {
   "cell_type": "code",
   "execution_count": 199,
   "id": "a79a95e8",
   "metadata": {
    "pycharm": {
     "name": "#%%\n"
    }
   },
   "outputs": [
    {
     "data": {
      "text/plain": "2017"
     },
     "execution_count": 199,
     "metadata": {},
     "output_type": "execute_result"
    }
   ],
   "source": [
    "# When was the data generated (base it on the highest year value?)\n",
    "# Instead of using year we can use age:\n",
    "df.year.max()"
   ]
  },
  {
   "cell_type": "code",
   "execution_count": 199,
   "id": "7099a823",
   "metadata": {
    "pycharm": {
     "name": "#%%\n"
    }
   },
   "outputs": [],
   "source": []
  },
  {
   "cell_type": "code",
   "execution_count": 200,
   "id": "370ae280",
   "metadata": {
    "pycharm": {
     "name": "#%%\n"
    }
   },
   "outputs": [],
   "source": [
    "def prepare_X(df):\n",
    "    \"\"\"\n",
    "    A function to automate preparing the input vector\n",
    "    :param df: The dataframe from which to create an input vector\n",
    "    :return: An input vector of attributes to feed into our model\n",
    "    \"\"\"\n",
    "    df = df.copy() # Modify a copy of the original dataframe passed to avoid\n",
    "    # potential issues using the dataframe further down the line.\n",
    "    features = base_features.copy()\n",
    "\n",
    "    df['age'] = df.year.max() - df.year\n",
    "    features.append('age')\n",
    "\n",
    "    df_num = df[features]\n",
    "    df_num = df_num.fillna(0)\n",
    "    X = df_num.values\n",
    "    return X"
   ]
  },
  {
   "cell_type": "code",
   "execution_count": 201,
   "outputs": [
    {
     "name": "stdout",
     "output_type": "stream",
     "text": [
      "0.513324102582641\n"
     ]
    }
   ],
   "source": [
    "X_train = prepare_X(df_train)\n",
    "w_0, w = train_linear_regression(X_train, y_train)\n",
    "\n",
    "X_val = prepare_X(df_val)\n",
    "y_pred = w_0 + X_val.dot(w)\n",
    "\n",
    "print(rmse(y_val, y_pred))"
   ],
   "metadata": {
    "collapsed": false,
    "pycharm": {
     "name": "#%%\n"
    }
   }
  },
  {
   "cell_type": "markdown",
   "source": [
    "The addition of age has improved our model as the RMSE has dropped. Visualise..."
   ],
   "metadata": {
    "collapsed": false,
    "pycharm": {
     "name": "#%% md\n"
    }
   }
  },
  {
   "cell_type": "code",
   "execution_count": 202,
   "outputs": [
    {
     "data": {
      "text/plain": "<matplotlib.legend.Legend at 0x15e830640>"
     },
     "execution_count": 202,
     "metadata": {},
     "output_type": "execute_result"
    },
    {
     "data": {
      "text/plain": "<Figure size 1080x576 with 1 Axes>",
      "image/png": "[encoded data removed]"
     },
     "metadata": {},
     "output_type": "display_data"
    }
   ],
   "source": [
    "sns.histplot(y_pred, label= 'Prediction', color='red')\n",
    "sns.histplot(y_val, label = 'Target/Actual')\n",
    "plt.legend()"
   ],
   "metadata": {
    "collapsed": false,
    "pycharm": {
     "name": "#%%\n"
    }
   }
  },
  {
   "cell_type": "markdown",
   "source": [
    "One-hot encoding of the categorical number of doors variable"
   ],
   "metadata": {
    "collapsed": false,
    "pycharm": {
     "name": "#%% md\n"
    }
   }
  },
  {
   "cell_type": "code",
   "execution_count": 203,
   "outputs": [],
   "source": [
    "def prepare_X(df):\n",
    "    \"\"\"\n",
    "    A function to automate preparing the input vector\n",
    "    :param df: The dataframe from which to create an input vector\n",
    "    :return: An input vector of attributes to feed into our model\n",
    "    \"\"\"\n",
    "    df = df.copy() # Modify a copy of the original dataframe passed to avoid\n",
    "    # potential issues using the dataframe further down the line.\n",
    "    features = base_features.copy()\n",
    "\n",
    "    df['age'] = df.year.max() - df.year\n",
    "    features.append('age')\n",
    "\n",
    "    for num in [2,3,4]:\n",
    "        feature = 'num_doors_{}'.format(num)\n",
    "        value = (df['number_of_doors'] == num).astype(int)\n",
    "        df[feature] = value\n",
    "        features.append(feature)\n",
    "\n",
    "    for name in ['chevrolet', 'ford', 'volkswagen', 'toyota', 'dodge']:\n",
    "        feature = 'is_make_{}'.format(name)\n",
    "        value = (df['make'] == name).astype(int)\n",
    "        df[feature] = value\n",
    "        features.append(feature)\n",
    "\n",
    "    df_num = df[features]\n",
    "    df_num = df_num.fillna(0)\n",
    "    X = df_num.values\n",
    "    return X"
   ],
   "metadata": {
    "collapsed": false,
    "pycharm": {
     "name": "#%%\n"
    }
   }
  },
  {
   "cell_type": "code",
   "execution_count": 204,
   "outputs": [
    {
     "name": "stdout",
     "output_type": "stream",
     "text": [
      "0.5015149550256524\n"
     ]
    }
   ],
   "source": [
    "X_train = prepare_X(df_train)\n",
    "w_0, w = train_linear_regression(X_train, y_train)\n",
    "\n",
    "X_val = prepare_X(df_val)\n",
    "y_pred = w_0 + X_val.dot(w)\n",
    "\n",
    "print(rmse(y_val, y_pred))"
   ],
   "metadata": {
    "collapsed": false,
    "pycharm": {
     "name": "#%%\n"
    }
   }
  },
  {
   "cell_type": "code",
   "execution_count": 205,
   "outputs": [
    {
     "data": {
      "text/plain": "<matplotlib.legend.Legend at 0x15e96c820>"
     },
     "execution_count": 205,
     "metadata": {},
     "output_type": "execute_result"
    },
    {
     "data": {
      "text/plain": "<Figure size 1080x576 with 1 Axes>",
      "image/png": "[encoded data removed]"
     },
     "metadata": {},
     "output_type": "display_data"
    }
   ],
   "source": [
    "sns.histplot(y_pred, label= 'Prediction', color='red')\n",
    "sns.histplot(y_val, label = 'Target/Actual')\n",
    "plt.legend()"
   ],
   "metadata": {
    "collapsed": false,
    "pycharm": {
     "name": "#%%\n"
    }
   }
  },
  {
   "cell_type": "code",
   "execution_count": 205,
   "outputs": [],
   "source": [],
   "metadata": {
    "collapsed": false,
    "pycharm": {
     "name": "#%%\n"
    }
   }
  },
  {
   "cell_type": "markdown",
   "source": [
    "...to be continued "
   ],
   "metadata": {
    "collapsed": false,
    "pycharm": {
     "name": "#%% md\n"
    }
   }
  },
  {
   "cell_type": "code",
   "execution_count": 205,
   "outputs": [],
   "source": [],
   "metadata": {
    "collapsed": false,
    "pycharm": {
     "name": "#%%\n"
    }
   }
  },
  {
   "cell_type": "code",
   "execution_count": 205,
   "outputs": [],
   "source": [],
   "metadata": {
    "collapsed": false,
    "pycharm": {
     "name": "#%%\n"
    }
   }
  },
  {
   "cell_type": "code",
   "execution_count": 205,
   "outputs": [],
   "source": [],
   "metadata": {
    "collapsed": false,
    "pycharm": {
     "name": "#%%\n"
    }
   }
  },
  {
   "cell_type": "code",
   "execution_count": 205,
   "outputs": [],
   "source": [],
   "metadata": {
    "collapsed": false,
    "pycharm": {
     "name": "#%%\n"
    }
   }
  },
  {
   "cell_type": "code",
   "execution_count": 205,
   "outputs": [],
   "source": [],
   "metadata": {
    "collapsed": false,
    "pycharm": {
     "name": "#%%\n"
    }
   }
  }
 ],
 "metadata": {
  "kernelspec": {
   "display_name": "Python 3 (ipykernel)",
   "language": "python",
   "name": "python3"
  },
  "language_info": {
   "codemirror_mode": {
    "name": "ipython",
    "version": 3
   },
   "file_extension": ".py",
   "mimetype": "text/x-python",
   "name": "python",
   "nbconvert_exporter": "python",
   "pygments_lexer": "ipython3",
   "version": "3.9.7"
  }
 },
 "nbformat": 4,
 "nbformat_minor": 5
}